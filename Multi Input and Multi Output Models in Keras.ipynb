{
 "cells": [
  {
   "cell_type": "code",
   "execution_count": 13,
   "metadata": {},
   "outputs": [],
   "source": [
    "# imports\n",
    "import tensorflow as tf\n",
    "import numpy as np\n",
    "import matplotlib.pyplot as plt\n",
    "from tensorflow.contrib import rnn\n",
    "import pandas as pd\n",
    "from keras.models import Sequential,Model\n",
    "from keras.layers import LSTM, Dense,GRU,RNN,SimpleRNN,Dropout,TimeDistributed,RepeatVector,Bidirectional,concatenate\n",
    "from keras.models import load_model,Input\n",
    "from keras.datasets import imdb\n",
    "from keras.preprocessing import sequence\n",
    "from keras.utils.vis_utils import plot_model\n"
   ]
  },
  {
   "cell_type": "code",
   "execution_count": 2,
   "metadata": {},
   "outputs": [],
   "source": [
    "def load_data(mode='train'):\n",
    "    \"\"\"\n",
    "    Function to (download and) load the MNIST data\n",
    "    :param mode: train or test\n",
    "    :return: images and the corresponding labels\n",
    "    \"\"\"\n",
    "    from tensorflow.examples.tutorials.mnist import input_data\n",
    "    mnist = input_data.read_data_sets(\"MNIST_data/\", one_hot=True)\n",
    "    if mode == 'train':\n",
    "        x_train, y_train, x_valid, y_valid = mnist.train.images, mnist.train.labels, \\\n",
    "                                             mnist.validation.images, mnist.validation.labels\n",
    "        return x_train, y_train, x_valid, y_valid\n",
    "    elif mode == 'test':\n",
    "        x_test, y_test = mnist.test.images, mnist.test.labels\n",
    "    return x_test, y_test\n",
    "\n",
    "def randomize(x, y):\n",
    "    \"\"\" Randomizes the order of data samples and their corresponding labels\"\"\"\n",
    "    permutation = np.random.permutation(y.shape[0])\n",
    "    shuffled_x = x[permutation, :]\n",
    "    shuffled_y = y[permutation]\n",
    "    return shuffled_x, shuffled_y\n",
    "\n",
    "def get_next_batch(x, y, start, end):\n",
    "    x_batch = x[start:end]\n",
    "    y_batch = y[start:end]\n",
    "    return x_batch, y_batch"
   ]
  },
  {
   "cell_type": "code",
   "execution_count": 34,
   "metadata": {},
   "outputs": [
    {
     "name": "stdout",
     "output_type": "stream",
     "text": [
      "Extracting MNIST_data/train-images-idx3-ubyte.gz\n",
      "Extracting MNIST_data/train-labels-idx1-ubyte.gz\n",
      "Extracting MNIST_data/t10k-images-idx3-ubyte.gz\n",
      "Extracting MNIST_data/t10k-labels-idx1-ubyte.gz\n"
     ]
    },
    {
     "data": {
      "text/plain": [
       "((55000, 784), (55000, 10))"
      ]
     },
     "execution_count": 34,
     "metadata": {},
     "output_type": "execute_result"
    }
   ],
   "source": [
    "x_train, y_train, x_valid, y_valid = load_data(mode='train')\n",
    "x_train.shape,y_train.shape\n",
    "#print(\"Size of:\")\n",
    "#print(\"- Training-set:\\t\\t{}\".format(len(y_train)))\n",
    "#print(\"- Validation-set:\\t{}\".format(len(y_valid)))\n",
    " "
   ]
  },
  {
   "cell_type": "markdown",
   "metadata": {},
   "source": [
    "Multi Output Model  With Shared Layers"
   ]
  },
  {
   "cell_type": "code",
   "execution_count": 36,
   "metadata": {},
   "outputs": [
    {
     "name": "stdout",
     "output_type": "stream",
     "text": [
      "__________________________________________________________________________________________________\n",
      "Layer (type)                    Output Shape         Param #     Connected to                     \n",
      "==================================================================================================\n",
      "input_15 (InputLayer)           (None, 784)          0                                            \n",
      "__________________________________________________________________________________________________\n",
      "dense1 (Dense)                  (None, 512)          401920      input_15[0][0]                   \n",
      "__________________________________________________________________________________________________\n",
      "dense2 (Dense)                  (None, 128)          65664       dense1[0][0]                     \n",
      "__________________________________________________________________________________________________\n",
      "dense3 (Dense)                  (None, 32)           4128        dense2[0][0]                     \n",
      "__________________________________________________________________________________________________\n",
      "up_dense1 (Dense)               (None, 128)          4224        dense3[0][0]                     \n",
      "__________________________________________________________________________________________________\n",
      "up_dense2 (Dense)               (None, 512)          66048       up_dense1[0][0]                  \n",
      "__________________________________________________________________________________________________\n",
      "classification_output (Dense)   (None, 10)           330         dense3[0][0]                     \n",
      "__________________________________________________________________________________________________\n",
      "decoded_outputs (Dense)         (None, 784)          402192      up_dense2[0][0]                  \n",
      "==================================================================================================\n",
      "Total params: 944,506\n",
      "Trainable params: 944,506\n",
      "Non-trainable params: 0\n",
      "__________________________________________________________________________________________________\n",
      "Epoch 1/10\n",
      "55000/55000 [==============================] - 8s 137us/step - loss: 0.3508 - classification_output_loss: 0.3273 - decoded_outputs_loss: 0.0470 - classification_output_acc: 0.9073 - decoded_outputs_acc: 0.0096\n",
      "Epoch 2/10\n",
      "55000/55000 [==============================] - 6s 113us/step - loss: 0.1273 - classification_output_loss: 0.1115 - decoded_outputs_loss: 0.0315 - classification_output_acc: 0.9666 - decoded_outputs_acc: 0.0101\n",
      "Epoch 3/10\n",
      "55000/55000 [==============================] - 7s 132us/step - loss: 0.0857 - classification_output_loss: 0.0716 - decoded_outputs_loss: 0.0282 - classification_output_acc: 0.9783 - decoded_outputs_acc: 0.0103\n",
      "Epoch 4/10\n",
      "55000/55000 [==============================] - 7s 120us/step - loss: 0.0616 - classification_output_loss: 0.0486 - decoded_outputs_loss: 0.0260 - classification_output_acc: 0.9854 - decoded_outputs_acc: 0.0113\n",
      "Epoch 5/10\n",
      "55000/55000 [==============================] - 6s 113us/step - loss: 0.0482 - classification_output_loss: 0.0359 - decoded_outputs_loss: 0.0247 - classification_output_acc: 0.9888 - decoded_outputs_acc: 0.0116 5s - loss: 0.0470 - classification_output_loss: 0.0344 - decoded_outputs_loss: 0.0252 - classification_output_acc: 0.9900 - decoded_outputs_a - ETA: 4s - loss: 0.0476 - classification_output_loss: 0.0351 - decoded_outputs_lo\n",
      "Epoch 6/10\n",
      "55000/55000 [==============================] - 6s 112us/step - loss: 0.0376 - classification_output_loss: 0.0257 - decoded_outputs_loss: 0.0236 - classification_output_acc: 0.9920 - decoded_outputs_acc: 0.0117 0s - loss: 0.0374 - classification_output_loss: 0.0256 - decoded_outputs_loss: 0.0236 - classification_output_acc: 0.9921 - decoded_outpu\n",
      "Epoch 7/10\n",
      "55000/55000 [==============================] - 6s 114us/step - loss: 0.0329 - classification_output_loss: 0.0214 - decoded_outputs_loss: 0.0230 - classification_output_acc: 0.9932 - decoded_outputs_acc: 0.0118 4s - loss: 0.0310 - classification_output_loss: 0.0194 - decoded_outputs_loss: 0.0232 - classification_output_acc: 0.9942 - decoded_outputs_acc: 0 - ETA: 4s - loss: 0.0306 - classification_output_loss: 0.0190 - decoded_outputs_loss: 0.0231 - classification_output_acc: 0.9944 - - ETA: 2s - loss: 0.0329 - classification_output_loss: 0.0214 - decoded_outputs_loss: 0.0231 - classification_output_a\n",
      "Epoch 8/10\n",
      "55000/55000 [==============================] - 6s 113us/step - loss: 0.0296 - classification_output_loss: 0.0183 - decoded_outputs_loss: 0.0225 - classification_output_acc: 0.9940 - decoded_outputs_acc: 0.0117\n",
      "Epoch 9/10\n",
      "55000/55000 [==============================] - 6s 115us/step - loss: 0.0215 - classification_output_loss: 0.0108 - decoded_outputs_loss: 0.0214 - classification_output_acc: 0.9971 - decoded_outputs_acc: 0.0124 5s - loss: 0.0232 - classification_output_loss: 0.0121 - de\n",
      "Epoch 10/10\n",
      "55000/55000 [==============================] - 6s 113us/step - loss: 0.0202 - classification_output_loss: 0.0097 - decoded_outputs_loss: 0.0210 - classification_output_acc: 0.9971 - decoded_outputs_acc: 0.0114\n"
     ]
    },
    {
     "data": {
      "text/plain": [
       "<keras.callbacks.History at 0x2842ab81128>"
      ]
     },
     "execution_count": 36,
     "metadata": {},
     "output_type": "execute_result"
    }
   ],
   "source": [
    "# creating model\n",
    "inputs = Input(shape = (784,))\n",
    "dense1 = Dense(512, activation = 'relu',name='dense1')(inputs)\n",
    "dense2 = Dense(128, activation = 'relu',name='dense2')(dense1)\n",
    "dense3 = Dense(32, activation = 'relu',name='dense3')(dense2)\n",
    " \n",
    "# create classification output\n",
    "classification_output = Dense(10, activation = 'softmax',name='classification_output')(dense3)\n",
    " \n",
    "    \n",
    "# use output from dense layer 3 to create autoencder output\n",
    "up_dense1 = Dense(128, activation = 'relu',name='up_dense1')(dense3)\n",
    "up_dense2 = Dense(512, activation = 'relu',name='up_dense2')(up_dense1)\n",
    "decoded_outputs = Dense(784,name='decoded_outputs')(up_dense2)\n",
    "\n",
    "    \n",
    "model = Model(inputs, [classification_output,decoded_outputs])\n",
    "model.summary()    \n",
    "    \n",
    "\n",
    "\n",
    "m = 256\n",
    "n_epoch = 10\n",
    "model.compile(optimizer='adam', loss=['categorical_crossentropy', 'mse'], loss_weights = [1.0, 0.5], metrics = ['accuracy'])\n",
    "model.fit(x_train,[y_train, x_train], epochs=n_epoch, batch_size=m, shuffle=True)\n",
    "\n"
   ]
  },
  {
   "cell_type": "markdown",
   "metadata": {},
   "source": [
    "Multi Input Model with one output"
   ]
  },
  {
   "cell_type": "code",
   "execution_count": 103,
   "metadata": {},
   "outputs": [
    {
     "name": "stdout",
     "output_type": "stream",
     "text": [
      "__________________________________________________________________________________________________\n",
      "Layer (type)                    Output Shape         Param #     Connected to                     \n",
      "==================================================================================================\n",
      "input_41 (InputLayer)           (None, 784)          0                                            \n",
      "__________________________________________________________________________________________________\n",
      "input_42 (InputLayer)           (None, 784)          0                                            \n",
      "__________________________________________________________________________________________________\n",
      "concatenate_13 (Concatenate)    (None, 1568)         0           input_41[0][0]                   \n",
      "                                                                 input_42[0][0]                   \n",
      "__________________________________________________________________________________________________\n",
      "dense_105 (Dense)               (None, 512)          803328      concatenate_13[0][0]             \n",
      "__________________________________________________________________________________________________\n",
      "dense_106 (Dense)               (None, 128)          65664       dense_105[0][0]                  \n",
      "__________________________________________________________________________________________________\n",
      "dense_107 (Dense)               (None, 32)           4128        dense_106[0][0]                  \n",
      "__________________________________________________________________________________________________\n",
      "dense_108 (Dense)               (None, 10)           330         dense_107[0][0]                  \n",
      "==================================================================================================\n",
      "Total params: 873,450\n",
      "Trainable params: 873,450\n",
      "Non-trainable params: 0\n",
      "__________________________________________________________________________________________________\n",
      "Epoch 1/10\n",
      "55000/55000 [==============================] - 7s 130us/step - loss: 0.2912 - acc: 0.9161\n",
      "Epoch 2/10\n",
      "55000/55000 [==============================] - 6s 107us/step - loss: 0.1034 - acc: 0.9687\n",
      "Epoch 3/10\n",
      "55000/55000 [==============================] - 6s 110us/step - loss: 0.0640 - acc: 0.9801\n",
      "Epoch 4/10\n",
      "55000/55000 [==============================] - 6s 104us/step - loss: 0.0445 - acc: 0.9856\n",
      "Epoch 5/10\n",
      "55000/55000 [==============================] - 5s 98us/step - loss: 0.0352 - acc: 0.9885: 0s - loss: 0.0343 - acc\n",
      "Epoch 6/10\n",
      "55000/55000 [==============================] - 5s 88us/step - loss: 0.0230 - acc: 0.9930\n",
      "Epoch 7/10\n",
      "55000/55000 [==============================] - 6s 101us/step - loss: 0.0208 - acc: 0.9933\n",
      "Epoch 8/10\n",
      "55000/55000 [==============================] - 6s 105us/step - loss: 0.0172 - acc: 0.9947\n",
      "Epoch 9/10\n",
      "55000/55000 [==============================] - 6s 103us/step - loss: 0.0114 - acc: 0.9964 0s - loss: 0.01\n",
      "Epoch 10/10\n",
      "55000/55000 [==============================] - 6s 102us/step - loss: 0.0108 - acc: 0.9968\n"
     ]
    },
    {
     "data": {
      "text/plain": [
       "<keras.callbacks.History at 0x28459a41eb8>"
      ]
     },
     "execution_count": 103,
     "metadata": {},
     "output_type": "execute_result"
    }
   ],
   "source": [
    "# create model with two inputs\n",
    "input_1 = Input(shape = (784,))\n",
    "input_2 = Input(shape = (784,))\n",
    "# concatenate both feature layers and define output layer after some dense layers\n",
    "concat = concatenate([input_1,input_2])\n",
    "dense1 = Dense(512, activation = 'relu')(concat)\n",
    "dense2 = Dense(128, activation = 'relu')(dense1)\n",
    "dense3 = Dense(32, activation = 'relu')(dense2)\n",
    "output = Dense(10, activation = 'softmax')(dense3)\n",
    " \n",
    "Multi_Input_Model = Model(inputs=[input_1,input_2],outputs=[output])    \n",
    "Multi_Input_Model.summary()   \n",
    "Multi_Input_Model.compile(optimizer='adam', loss=['categorical_crossentropy'], loss_weights = [1.0], metrics = ['accuracy'])\n",
    "Multi_Input_Model.fit([x_train,x_train],y_train, epochs=n_epoch, batch_size=m, shuffle=True)"
   ]
  },
  {
   "cell_type": "markdown",
   "metadata": {},
   "source": [
    "Multi-input and multi-output models"
   ]
  },
  {
   "cell_type": "code",
   "execution_count": 35,
   "metadata": {},
   "outputs": [],
   "source": [
    "# creating LSTM model for the first input\n",
    "\n",
    "\n",
    "# Data Dimension\n",
    "num_input = 28          # MNIST data input (image shape: 28x28)\n",
    "timesteps = 28          # Timesteps\n",
    "n_classes = 10          # Number of classes, one class per digit\n",
    " \n",
    "#Hyperparameters    \n",
    "learning_rate = 0.001 # The optimization initial learning rate\n",
    "epochs = 3          # Total number of training epochs\n",
    "batch_size = 100      # Training batch size\n",
    "display_freq = 100    # Frequency of displaying the training results\n",
    "Dropout_rate=0.1\n",
    "#Network configuration\n",
    "num_hidden_units = 128  # Number of hidden units of the RNN   \n",
    "\n",
    "\n",
    "input_LSTM = Input(shape = (timesteps,num_input))\n",
    "LSTM_1=LSTM(num_hidden_units,return_sequences=True,dropout=0.1,name='LSTM_1')(input_LSTM)\n",
    "LSTM_2=LSTM(num_hidden_units,return_sequences=False,name='LSTM_2')(LSTM_1)\n",
    "LSTM_output = Dense(10, activation = 'softmax',name='LSTM_output')(LSTM_2)\n",
    "LSTM_model=Model(input_LSTM,LSTM_output)"
   ]
  },
  {
   "cell_type": "code",
   "execution_count": 36,
   "metadata": {},
   "outputs": [],
   "source": [
    "# creating feedforward model for the second  input\n",
    "\n",
    "input_feedforward = Input(shape = (784,))\n",
    "dense1 = Dense(512, activation = 'relu',name='dense1')(input_feedforward)\n",
    "dense2 = Dense(128, activation = 'relu',name='dense2')(dense1)\n",
    "dense3 = Dense(32, activation = 'relu',name='dense3')(dense2)\n",
    "feedforward_output = Dense(10, activation = 'softmax',name='feedforward_output')(dense3)\n",
    "feedforward_model=Model(input_feedforward,feedforward_output)"
   ]
  },
  {
   "cell_type": "code",
   "execution_count": 37,
   "metadata": {},
   "outputs": [],
   "source": [
    "intermediate_from_LSTM = LSTM_model.get_layer(\"LSTM_output\").output\n",
    "intermediate_from_feedforward = feedforward_model.get_layer(\"feedforward_output\").output"
   ]
  },
  {
   "cell_type": "code",
   "execution_count": 44,
   "metadata": {},
   "outputs": [],
   "source": [
    "# combine output from two models into new input layer\n",
    "concat = concatenate([intermediate_from_LSTM,intermediate_from_feedforward])\n",
    "combinedense1 = Dense(512, activation = 'relu',name='combinedense1')(concat)\n",
    "combinedense2 = Dense(128, activation = 'relu',name='combinedense2')(combinedense1)\n",
    "combinedense3 = Dense(32, activation = 'relu',name='combinedense3')(combinedense2)\n",
    "model_output = Dense(10, activation = 'softmax',name='model_output')(combinedense3)\n",
    "concatenate_input_model=Model(intermediate_from_LSTM,intermediate_from_feedforward,model_output)"
   ]
  },
  {
   "cell_type": "code",
   "execution_count": 45,
   "metadata": {},
   "outputs": [
    {
     "name": "stdout",
     "output_type": "stream",
     "text": [
      "__________________________________________________________________________________________________\n",
      "Layer (type)                    Output Shape         Param #     Connected to                     \n",
      "==================================================================================================\n",
      "input_10 (InputLayer)           (None, 784)          0                                            \n",
      "__________________________________________________________________________________________________\n",
      "input_9 (InputLayer)            (None, 28, 28)       0                                            \n",
      "__________________________________________________________________________________________________\n",
      "dense1 (Dense)                  (None, 512)          401920      input_10[0][0]                   \n",
      "__________________________________________________________________________________________________\n",
      "LSTM_1 (LSTM)                   (None, 28, 128)      80384       input_9[0][0]                    \n",
      "__________________________________________________________________________________________________\n",
      "dense2 (Dense)                  (None, 128)          65664       dense1[0][0]                     \n",
      "__________________________________________________________________________________________________\n",
      "LSTM_2 (LSTM)                   (None, 128)          131584      LSTM_1[0][0]                     \n",
      "__________________________________________________________________________________________________\n",
      "dense3 (Dense)                  (None, 32)           4128        dense2[0][0]                     \n",
      "__________________________________________________________________________________________________\n",
      "LSTM_output (Dense)             (None, 10)           1290        LSTM_2[0][0]                     \n",
      "__________________________________________________________________________________________________\n",
      "feedforward_output (Dense)      (None, 10)           330         dense3[0][0]                     \n",
      "__________________________________________________________________________________________________\n",
      "concatenate_6 (Concatenate)     (None, 20)           0           LSTM_output[0][0]                \n",
      "                                                                 feedforward_output[0][0]         \n",
      "__________________________________________________________________________________________________\n",
      "combinedense1 (Dense)           (None, 512)          10752       concatenate_6[0][0]              \n",
      "__________________________________________________________________________________________________\n",
      "combinedense2 (Dense)           (None, 128)          65664       combinedense1[0][0]              \n",
      "__________________________________________________________________________________________________\n",
      "combinedense3 (Dense)           (None, 32)           4128        combinedense2[0][0]              \n",
      "__________________________________________________________________________________________________\n",
      "model_output (Dense)            (None, 10)           330         combinedense3[0][0]              \n",
      "==================================================================================================\n",
      "Total params: 766,174\n",
      "Trainable params: 766,174\n",
      "Non-trainable params: 0\n",
      "__________________________________________________________________________________________________\n"
     ]
    }
   ],
   "source": [
    "Multi_Input_Multi_Output_Model = Model(inputs=[input_LSTM,input_feedforward],outputs=[LSTM_output,feedforward_output,model_output])    \n",
    "Multi_Input_Multi_Output_Model.summary()   \n"
   ]
  },
  {
   "cell_type": "code",
   "execution_count": 46,
   "metadata": {},
   "outputs": [
    {
     "name": "stdout",
     "output_type": "stream",
     "text": [
      "Epoch 1/3\n",
      "55000/55000 [==============================] - 44s 803us/step - loss: 0.3011 - LSTM_output_loss: 0.0865 - feedforward_output_loss: 0.0663 - model_output_loss: 0.1483 - LSTM_output_acc: 0.9729 - feedforward_output_acc: 0.9800 - model_output_acc: 0.9776\n",
      "Epoch 2/3\n",
      "55000/55000 [==============================] - 45s 814us/step - loss: 0.1604 - LSTM_output_loss: 0.0655 - feedforward_output_loss: 0.0490 - model_output_loss: 0.0459 - LSTM_output_acc: 0.9799 - feedforward_output_acc: 0.9848 - model_output_acc: 0.9886\n",
      "Epoch 3/3\n",
      "55000/55000 [==============================] - 44s 807us/step - loss: 0.1229 - LSTM_output_loss: 0.0529 - feedforward_output_loss: 0.0367 - model_output_loss: 0.0333 - LSTM_output_acc: 0.9836 - feedforward_output_acc: 0.9890 - model_output_acc: 0.9916\n"
     ]
    },
    {
     "data": {
      "text/plain": [
       "<keras.callbacks.History at 0x1efe4eea940>"
      ]
     },
     "execution_count": 46,
     "metadata": {},
     "output_type": "execute_result"
    }
   ],
   "source": [
    "Multi_Input_Multi_Output_Model.compile(optimizer='adam', loss=['categorical_crossentropy','categorical_crossentropy','categorical_crossentropy'], loss_weights = [1.0,1.0,1.0], metrics = ['accuracy'])\n",
    "Multi_Input_Multi_Output_Model.fit([x_train.reshape(-1,28,28),x_train],[y_train,y_train,y_train], epochs=epochs, batch_size=batch_size, shuffle=True)"
   ]
  },
  {
   "cell_type": "code",
   "execution_count": null,
   "metadata": {},
   "outputs": [],
   "source": []
  }
 ],
 "metadata": {
  "kernelspec": {
   "display_name": "tensorflowproject",
   "language": "python",
   "name": "tensorflowproject"
  },
  "language_info": {
   "codemirror_mode": {
    "name": "ipython",
    "version": 3
   },
   "file_extension": ".py",
   "mimetype": "text/x-python",
   "name": "python",
   "nbconvert_exporter": "python",
   "pygments_lexer": "ipython3",
   "version": "3.5.6"
  }
 },
 "nbformat": 4,
 "nbformat_minor": 2
}
